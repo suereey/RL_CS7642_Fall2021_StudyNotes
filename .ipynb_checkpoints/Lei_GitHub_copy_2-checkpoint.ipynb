{
 "cells": [
  {
   "cell_type": "markdown",
   "metadata": {},
   "source": [
    "#### Reinforcement Learning and Decision Making &nbsp;&nbsp;&nbsp;&nbsp;&nbsp;&nbsp;&nbsp;&nbsp;&nbsp;&nbsp; &nbsp;&nbsp;&nbsp;&nbsp;&nbsp;&nbsp;&nbsp;&nbsp;&nbsp;&nbsp;&nbsp;&nbsp;&nbsp;&nbsp;&nbsp;&nbsp;&nbsp;&nbsp;&nbsp;&nbsp;&nbsp;&nbsp;&nbsp;&nbsp;&nbsp;&nbsp;&nbsp;&nbsp;&nbsp;&nbsp;&nbsp;&nbsp;&nbsp;&nbsp;&nbsp;&nbsp;&nbsp;&nbsp;&nbsp;&nbsp;&nbsp;&nbsp;&nbsp;&nbsp;&nbsp;&nbsp;&nbsp;&nbsp;&nbsp;&nbsp;&nbsp;&nbsp;&nbsp;&nbsp;&nbsp;&nbsp;&nbsp;&nbsp;&nbsp;&nbsp;&nbsp;&nbsp;&nbsp;&nbsp;&nbsp;&nbsp;&nbsp;&nbsp;&nbsp;&nbsp;&nbsp;&nbsp;&nbsp;&nbsp;&nbsp;&nbsp;&nbsp;&nbsp;&nbsp;Homework #1\n",
    "\n",
    "# &nbsp;&nbsp;&nbsp;&nbsp;&nbsp;&nbsp;&nbsp;&nbsp;&nbsp;&nbsp; &nbsp;&nbsp;&nbsp;&nbsp;&nbsp;&nbsp;&nbsp;&nbsp;&nbsp;&nbsp;&nbsp;&nbsp;&nbsp;&nbsp;&nbsp;&nbsp;&nbsp;&nbsp;&nbsp;&nbsp;&nbsp;&nbsp;&nbsp;&nbsp;&nbsp;&nbsp;&nbsp;&nbsp;&nbsp;&nbsp;&nbsp;&nbsp;Planning in MDPs"
   ]
  },
  {
   "cell_type": "markdown",
   "metadata": {},
   "source": [
    "## Description\n",
    "\n",
    "You are given an $N$-sided die, along with a corresponding Boolean mask\n",
    "vector, `is_bad_side` (i.e., a vector of ones and zeros). You can assume\n",
    "that $1<N\\leq30$, and the vector `is_bad_side` is also of size $N$ and\n",
    "$1$ indexed (since there is no $0$ side on the die). The game of DieN is\n",
    "played as follows:\n",
    "\n",
    "1.  You start with $0$ dollars.\n",
    "\n",
    "2.  At any time you have the option to roll the die or to quit the game.\n",
    "\n",
    "    1.  **ROLL**:\n",
    "\n",
    "        1.  If you roll a number not in `is_bad_side`, you receive that\n",
    "            many dollars (e.g., if you roll the number $2$ and $2$ is\n",
    "            not a bad side -- meaning the second element of the vector\n",
    "            `is_bad_side` is $0$, then you receive $2$ dollars). Repeat\n",
    "            step 2.\n",
    "\n",
    "        2.  If you roll a number in `is_bad_side`, then you lose all the\n",
    "            money obtained in previous rolls and the game ends.\n",
    "\n",
    "    2.  **QUIT**:\n",
    "\n",
    "        1.  You keep all the money gained from previous rolls and the\n",
    "            game ends.\n",
    "\n",
    "## Procedure\n",
    "\n",
    "-   You will implement your solution using the `solve()` method\n",
    "    in the code below.\n",
    "    \n",
    "-   Your return value should be the number of dollars you expect to\n",
    "    win for a specific value of `is_bad_side`, if you follow an\n",
    "    optimal policy. That is, what is the value of the optimal\n",
    "    state-value function for the initial state of the game (starting\n",
    "    with $0$ dollars)? Your answer must be correct to $3$ decimal\n",
    "    places, truncated (e.g., 3.14159265 becomes 3.141).\n",
    "\n",
    "-   To solve this problem, you will need to determine an optimal policy\n",
    "    for the game of DieN, given a particular configuration of the die.\n",
    "    As you will see, the action that is optimal will depend on your\n",
    "    current bankroll (i.e., how much money you've won so far).\n",
    "\n",
    "-   You can try solving this problem by creating an MDP of the game\n",
    "    (states, actions, transition function, reward function, and assume a\n",
    "    discount rate of $\\gamma=1$) and then calculating the optimal\n",
    "    state-value function.\n",
    "\n",
    "## Resources\n",
    "\n",
    "The concepts explored in this homework are covered by:\n",
    "\n",
    "-   Lecture Lesson 1: Smoov & Curly's Bogus Journey\n",
    "\n",
    "-   Chapter 3 (3.6 Optimal Policies and Optimal Value Functions) and\n",
    "    Chapter 4 (4.3-4.4 Policy Iteration, Value Iteration) of\n",
    "    http://incompleteideas.net/book/the-book-2nd.html\n",
    "\n",
    "-   Chapters 1-2 of 'Algorithms for Sequential Decision Making', M.\n",
    "    Littman, 1996\n",
    "\n",
    "## Submission\n",
    "\n",
    "-   The due date is indicated on the Canvas page for this assignment.\n",
    "    Make sure you have your timezone in Canvas set to ensure the\n",
    "    deadline is accurate.\n",
    "\n",
    "-   Submit your finished notebook on Gradescope. Your grade is based on\n",
    "    a set of hidden test cases. You will have unlimited submissions -\n",
    "    only the last score is kept.\n",
    "\n",
    "-   Use the template below to implement your code. We have also provided\n",
    "    some test cases for you. If your code passes the given test cases,\n",
    "    it will run (though possibly not pass all the tests) on Gradescope.\n",
    "\n",
    "-   Gradescope is using *python 3.6.x* and *numpy==1.18.0*, and you can\n",
    "    use any core library (i.e., anything in the Python standard library).\n",
    "    No other library can be used.  Also, make sure the name of your\n",
    "    notebook matches the name of the provided notebook.  Gradescope times\n",
    "    out after 10 minutes."
   ]
  },
  {
   "cell_type": "code",
   "execution_count": 87,
   "metadata": {},
   "outputs": [],
   "source": [
    "#################\n",
    "# DO NOT REMOVE\n",
    "# Versions\n",
    "# numpy==1.18.0\n",
    "################\n",
    "import numpy as np\n",
    "\n",
    "class MDPAgent(object):\n",
    "    def __init__(self):\n",
    "        pass\n",
    "\n",
    "    def solve(self, is_bad_side):\n",
    "        \"\"\"Implement the agent\"\"\"\n",
    "        N = len(is_bad_side)\n",
    "        max_states_n = 3 * N + 2\n",
    " \n",
    "        \n",
    "        good_indicies = []\n",
    "        for i, isBad in enumerate(is_bad_side):\n",
    "            if not isBad:\n",
    "                good_indicies.append(i + 1)\n",
    "        \n",
    "        Count_BadSide = N - len(good_indicies)\n",
    "\n",
    "        #inital_state = np.zeros(max_states_n)\n",
    "        #old_state = np.zeros(max_states_n)\n",
    "        new_state = np.zeros(max_states_n)\n",
    "        \n",
    "## S0 zero dollar 的 state\n",
    "## S1 one dollar 的 state\n",
    "## S2 two dollar 的 state\n",
    "## S3 three dollar 的 state\n",
    "## ....\n",
    "        #print(\"max_states_n\",max_states_n)\n",
    "        while True:\n",
    "            old_state = np.copy(new_state)\n",
    "            print(old_state)\n",
    "            for i in range(max_states_n):\n",
    "                #print(\"i\", i)\n",
    "                V_quit = old_state[i] \n",
    "                print(V_quit,\"vquit\")\n",
    "                V_roll = -i*Count_BadSide/N # i 表示减去多少钱，\n",
    "                for j in good_indicies:\n",
    "                    #print(\"j\", j)\n",
    "                    N_s = min(i+j,max_states_n-1)\n",
    "                    #print(N_s, \"N_s\")\n",
    "                    #print(max_states_n-1, \"max_states_n-1\")\n",
    "                    #V_roll += (j + old_state[N_s])/N\n",
    "                    V_roll = V_roll + j/N + old_state[i]\n",
    "                    print(\"vroll\", V_roll)\n",
    "                    #raise KeyError\n",
    "                    new_state[i] = max(V_quit,V_roll)\n",
    "                    #print(\"new_state\", new_state)\n",
    "                    #print(\"new_state[i]\", new_state[i])\n",
    "            #print(\"old state\", old_state)\n",
    "            #print(\"new state\", new_state)\n",
    "            if abs(old_state[0]-new_state[0])<0.001:\n",
    "                break\n",
    "        return new_state[0]"
   ]
  },
  {
   "cell_type": "code",
   "execution_count": 88,
   "metadata": {},
   "outputs": [
    {
     "name": "stdout",
     "output_type": "stream",
     "text": [
      "[0. 0. 0. 0. 0. 0. 0. 0. 0. 0. 0. 0. 0. 0. 0. 0. 0. 0. 0. 0.]\n",
      "0.0 vquit\n",
      "vroll 0.6666666666666666\n"
     ]
    },
    {
     "ename": "KeyError",
     "evalue": "",
     "output_type": "error",
     "traceback": [
      "\u001b[1;31m---------------------------------------------------------------------------\u001b[0m",
      "\u001b[1;31mKeyError\u001b[0m                                  Traceback (most recent call last)",
      "\u001b[1;32m<ipython-input-88-8d5fca6c34c3>\u001b[0m in \u001b[0;36m<module>\u001b[1;34m\u001b[0m\n\u001b[0;32m      1\u001b[0m \u001b[0magent\u001b[0m \u001b[1;33m=\u001b[0m \u001b[0mMDPAgent\u001b[0m\u001b[1;33m(\u001b[0m\u001b[1;33m)\u001b[0m\u001b[1;33m\u001b[0m\u001b[1;33m\u001b[0m\u001b[0m\n\u001b[1;32m----> 2\u001b[1;33m \u001b[0magent\u001b[0m\u001b[1;33m.\u001b[0m\u001b[0msolve\u001b[0m\u001b[1;33m(\u001b[0m\u001b[1;33m[\u001b[0m\u001b[1;36m1\u001b[0m\u001b[1;33m,\u001b[0m\u001b[1;36m1\u001b[0m\u001b[1;33m,\u001b[0m\u001b[1;36m1\u001b[0m\u001b[1;33m,\u001b[0m\u001b[1;36m0\u001b[0m\u001b[1;33m,\u001b[0m\u001b[1;36m0\u001b[0m\u001b[1;33m,\u001b[0m\u001b[1;36m0\u001b[0m\u001b[1;33m]\u001b[0m\u001b[1;33m)\u001b[0m\u001b[1;33m\u001b[0m\u001b[1;33m\u001b[0m\u001b[0m\n\u001b[0m",
      "\u001b[1;32m<ipython-input-87-5581fd162d0c>\u001b[0m in \u001b[0;36msolve\u001b[1;34m(self, is_bad_side)\u001b[0m\n\u001b[0;32m     49\u001b[0m                     \u001b[0mV_roll\u001b[0m \u001b[1;33m=\u001b[0m \u001b[0mV_roll\u001b[0m \u001b[1;33m+\u001b[0m \u001b[0mj\u001b[0m\u001b[1;33m/\u001b[0m\u001b[0mN\u001b[0m \u001b[1;33m+\u001b[0m \u001b[0mold_state\u001b[0m\u001b[1;33m[\u001b[0m\u001b[0mi\u001b[0m\u001b[1;33m]\u001b[0m\u001b[1;33m\u001b[0m\u001b[1;33m\u001b[0m\u001b[0m\n\u001b[0;32m     50\u001b[0m                     \u001b[0mprint\u001b[0m\u001b[1;33m(\u001b[0m\u001b[1;34m\"vroll\"\u001b[0m\u001b[1;33m,\u001b[0m \u001b[0mV_roll\u001b[0m\u001b[1;33m)\u001b[0m\u001b[1;33m\u001b[0m\u001b[1;33m\u001b[0m\u001b[0m\n\u001b[1;32m---> 51\u001b[1;33m                     \u001b[1;32mraise\u001b[0m \u001b[0mKeyError\u001b[0m\u001b[1;33m\u001b[0m\u001b[1;33m\u001b[0m\u001b[0m\n\u001b[0m\u001b[0;32m     52\u001b[0m                     \u001b[0mnew_state\u001b[0m\u001b[1;33m[\u001b[0m\u001b[0mi\u001b[0m\u001b[1;33m]\u001b[0m \u001b[1;33m=\u001b[0m \u001b[0mmax\u001b[0m\u001b[1;33m(\u001b[0m\u001b[0mV_quit\u001b[0m\u001b[1;33m,\u001b[0m\u001b[0mV_roll\u001b[0m\u001b[1;33m)\u001b[0m\u001b[1;33m\u001b[0m\u001b[1;33m\u001b[0m\u001b[0m\n\u001b[0;32m     53\u001b[0m                     \u001b[1;31m#print(\"new_state\", new_state)\u001b[0m\u001b[1;33m\u001b[0m\u001b[1;33m\u001b[0m\u001b[1;33m\u001b[0m\u001b[0m\n",
      "\u001b[1;31mKeyError\u001b[0m: "
     ]
    }
   ],
   "source": [
    "agent = MDPAgent()\n",
    "agent.solve([1,1,1,0,0,0])"
   ]
  },
  {
   "cell_type": "markdown",
   "metadata": {},
   "source": [
    "## Test cases\n",
    "\n",
    "We have provided some test cases for you to help verify your implementation."
   ]
  },
  {
   "cell_type": "code",
   "execution_count": 77,
   "metadata": {},
   "outputs": [
    {
     "name": "stderr",
     "output_type": "stream",
     "text": [
      "test_case_1 (__main__.TestDieNNotebook) ... ok\n",
      "test_case_2 (__main__.TestDieNNotebook) ... ok\n",
      "test_case_3 (__main__.TestDieNNotebook) ... ok\n",
      "\n",
      "----------------------------------------------------------------------\n",
      "Ran 3 tests in 0.011s\n",
      "\n",
      "OK\n"
     ]
    },
    {
     "data": {
      "text/plain": [
       "<unittest.main.TestProgram at 0x1c65a5f0340>"
      ]
     },
     "execution_count": 77,
     "metadata": {},
     "output_type": "execute_result"
    }
   ],
   "source": [
    "## DO NOT MODIFY THIS CODE.  This code will ensure that your submission\n",
    "## will work proberly with the autograder\n",
    "\n",
    "import unittest\n",
    "\n",
    "class TestDieNNotebook(unittest.TestCase):\n",
    "    def test_case_1(self):\n",
    "        agent = MDPAgent()\n",
    "        np.testing.assert_almost_equal(\n",
    "            agent.solve(is_bad_side=[1, 1, 1, 0, 0, 0]),\n",
    "            2.583,\n",
    "            decimal=3\n",
    "        )\n",
    "        \n",
    "    def test_case_2(self):\n",
    "        agent = MDPAgent()\n",
    "        np.testing.assert_almost_equal(\n",
    "            agent.solve(\n",
    "                is_bad_side=[1, 1, 1, 1, 0, 0, 0, 0, 1, 0, 1, 0, 1, 1, 0, 1, 0, 0, 0, 1, 0]\n",
    "            ),\n",
    "            7.379,\n",
    "            decimal=3\n",
    "        )\n",
    "        \n",
    "    def test_case_3(self):\n",
    "        agent = MDPAgent()\n",
    "\n",
    "        np.testing.assert_almost_equal(\n",
    "            agent.solve(\n",
    "                is_bad_side=[1, 1, 1, 1, 1, 1, 0, 1, 0, 1, 1, 0, 1, 0, 1, 0, 0, 1, 0, 0, 1, 0]\n",
    "            ),\n",
    "            6.314,\n",
    "            decimal=3\n",
    "        )\n",
    "\n",
    "unittest.main(argv=[''], verbosity=2, exit=False)"
   ]
  },
  {
   "cell_type": "code",
   "execution_count": null,
   "metadata": {},
   "outputs": [],
   "source": []
  },
  {
   "cell_type": "code",
   "execution_count": null,
   "metadata": {},
   "outputs": [],
   "source": []
  }
 ],
 "metadata": {
  "kernelspec": {
   "display_name": "Python 3",
   "language": "python",
   "name": "python3"
  },
  "language_info": {
   "codemirror_mode": {
    "name": "ipython",
    "version": 3
   },
   "file_extension": ".py",
   "mimetype": "text/x-python",
   "name": "python",
   "nbconvert_exporter": "python",
   "pygments_lexer": "ipython3",
   "version": "3.8.5"
  },
  "pycharm": {
   "stem_cell": {
    "cell_type": "raw",
    "metadata": {
     "collapsed": false
    },
    "source": []
   }
  }
 },
 "nbformat": 4,
 "nbformat_minor": 4
}
