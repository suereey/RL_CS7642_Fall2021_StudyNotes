{
 "cells": [
  {
   "cell_type": "code",
   "execution_count": 44,
   "metadata": {},
   "outputs": [],
   "source": [
    "import numpy as np\n",
    "\n",
    "class MDPAgent(object):\n",
    "    def __init__(self):\n",
    "        pass\n",
    "    \n",
    "    def solve(self, is_bad_side):\n",
    "        \"\"\"Implement the agent\"\"\"\n",
    "        #int_epoches = 100000\n",
    "        int_epoches = 10000000\n",
    "        def function_get_random_next_step():\n",
    "            int_side_index = np.random.randint(0, len(is_bad_side))\n",
    "            #print(\"int_side_index\", int_side_index)\n",
    "            value_reward = (int_side_index + 1) * (1 - is_bad_side[int_side_index])\n",
    "            value_reward = (1 - is_bad_side[int_side_index])\n",
    "            #print(\"is_bad_side[int_side_index]\",is_bad_side[int_side_index])\n",
    "            #print(\"value_reward\", value_reward)\n",
    "            return value_reward\n",
    "            \n",
    "        def function_run_single_time(value_threshold):\n",
    "            value_state = 0\n",
    "            bool_continue = True\n",
    "            # int_count = 0\n",
    "            # list_reward =[]\n",
    "            while bool_continue:\n",
    "                # int_count += 1\n",
    "                value_reward = function_get_random_next_step()\n",
    "                # list_reward.append(value_reward)\n",
    "                if value_reward == 0:\n",
    "                    value_state = 0\n",
    "                    break\n",
    "                else:\n",
    "                    value_state += value_reward\n",
    "                    if value_state >= value_threshold:\n",
    "                        break\n",
    "            # print(list_reward)\n",
    "            #print('single time', value_reward, value_state)\n",
    "            return value_state\n",
    "\n",
    "        def function_get_mean_reward(value_threshold):\n",
    "            array_rewards = np.zeros(int_epoches)\n",
    "            print(\"int_epoches\", int_epoches)\n",
    "            for i_epoch in range(int_epoches):\n",
    "                array_rewards[i_epoch] = function_run_single_time(value_threshold)\n",
    "            # print(array_rewards)\n",
    "            value_mean_reward = np.mean(array_rewards)\n",
    "            return value_mean_reward\n",
    "        \n",
    "        value_threshold = 1\n",
    "        # Policiy is if current state is smaller than the threshold, continue\n",
    "        \n",
    "        value_current_reward = function_get_mean_reward(value_threshold)\n",
    "        value_next_reward = function_get_mean_reward(value_threshold + 1)\n",
    "        value_diff = value_next_reward - value_current_reward\n",
    "        # print('initial', value_current_reward, value_next_reward, value_diff)\n",
    "        while value_diff > 0.001:\n",
    "            value_current_reward = value_next_reward\n",
    "            value_threshold += 1\n",
    "            value_next_reward = function_get_mean_reward(value_threshold + 1)\n",
    "            value_diff = value_next_reward - value_current_reward\n",
    "            print('iteration status', value_current_reward, value_threshold)\n",
    "\n",
    "        value_current_reward = round(value_current_reward, 3)\n",
    "        return value_current_reward\n"
   ]
  },
  {
   "cell_type": "code",
   "execution_count": 45,
   "metadata": {},
   "outputs": [
    {
     "name": "stdout",
     "output_type": "stream",
     "text": [
      "int_epoches 1000000\n",
      "int_epoches 1000000\n"
     ]
    },
    {
     "data": {
      "text/plain": [
       "0.5"
      ]
     },
     "execution_count": 45,
     "metadata": {},
     "output_type": "execute_result"
    }
   ],
   "source": [
    "agent = MDPAgent()\n",
    "agent.solve([1,1,1,0,0,0])"
   ]
  },
  {
   "cell_type": "code",
   "execution_count": null,
   "metadata": {},
   "outputs": [],
   "source": [
    "agent = MDPAgent()"
   ]
  },
  {
   "cell_type": "code",
   "execution_count": null,
   "metadata": {},
   "outputs": [],
   "source": [
    "from matplotlib import pyplot"
   ]
  },
  {
   "cell_type": "code",
   "execution_count": null,
   "metadata": {},
   "outputs": [],
   "source": [
    "            \n",
    "for i in range(10):\n",
    "    print(agent.solve(is_bad_side=[1, 1, 1, 0, 0, 0]))"
   ]
  },
  {
   "cell_type": "code",
   "execution_count": 10,
   "metadata": {},
   "outputs": [],
   "source": [
    "#    agent = MDPAgent()\n",
    "#    np.testing.assert_almost_equal(\n",
    "#        agent.solve(is_bad_side=[1, 1, 1, 0, 0, 0]),\n",
    "#        2.583,\n",
    "#        decimal=3\n",
    "#    )"
   ]
  },
  {
   "cell_type": "markdown",
   "metadata": {},
   "source": [
    "## Test cases\n",
    "\n",
    "We have provided some test cases for you to help verify your implementation."
   ]
  },
  {
   "cell_type": "code",
   "execution_count": 9,
   "metadata": {},
   "outputs": [
    {
     "name": "stderr",
     "output_type": "stream",
     "text": [
      "test_case_1 (__main__.TestDieNNotebook) ... FAIL\n",
      "test_case_2 (__main__.TestDieNNotebook) ... "
     ]
    },
    {
     "name": "stdout",
     "output_type": "stream",
     "text": [
      "iteration status 2.50926 2\n",
      "iteration status 6.57689 2\n"
     ]
    },
    {
     "name": "stderr",
     "output_type": "stream",
     "text": [
      "FAIL\n",
      "test_case_3 (__main__.TestDieNNotebook) ... "
     ]
    },
    {
     "name": "stdout",
     "output_type": "stream",
     "text": [
      "iteration status 6.58368 3\n"
     ]
    },
    {
     "name": "stderr",
     "output_type": "stream",
     "text": [
      "FAIL\n",
      "\n",
      "======================================================================\n",
      "FAIL: test_case_1 (__main__.TestDieNNotebook)\n",
      "----------------------------------------------------------------------\n",
      "Traceback (most recent call last):\n",
      "  File \"<ipython-input-9-0aeb7388a59c>\", line 9, in test_case_1\n",
      "    np.testing.assert_almost_equal(\n",
      "  File \"C:\\Users\\wang1\\anaconda3\\lib\\site-packages\\numpy\\testing\\_private\\utils.py\", line 595, in assert_almost_equal\n",
      "    raise AssertionError(_build_err_msg())\n",
      "AssertionError: \n",
      "Arrays are not almost equal to 3 decimals\n",
      " ACTUAL: 2.509\n",
      " DESIRED: 2.583\n",
      "\n",
      "======================================================================\n",
      "FAIL: test_case_2 (__main__.TestDieNNotebook)\n",
      "----------------------------------------------------------------------\n",
      "Traceback (most recent call last):\n",
      "  File \"<ipython-input-9-0aeb7388a59c>\", line 17, in test_case_2\n",
      "    np.testing.assert_almost_equal(\n",
      "  File \"C:\\Users\\wang1\\anaconda3\\lib\\site-packages\\numpy\\testing\\_private\\utils.py\", line 595, in assert_almost_equal\n",
      "    raise AssertionError(_build_err_msg())\n",
      "AssertionError: \n",
      "Arrays are not almost equal to 3 decimals\n",
      " ACTUAL: 6.584\n",
      " DESIRED: 7.379\n",
      "\n",
      "======================================================================\n",
      "FAIL: test_case_3 (__main__.TestDieNNotebook)\n",
      "----------------------------------------------------------------------\n",
      "Traceback (most recent call last):\n",
      "  File \"<ipython-input-9-0aeb7388a59c>\", line 28, in test_case_3\n",
      "    np.testing.assert_almost_equal(\n",
      "  File \"C:\\Users\\wang1\\anaconda3\\lib\\site-packages\\numpy\\testing\\_private\\utils.py\", line 595, in assert_almost_equal\n",
      "    raise AssertionError(_build_err_msg())\n",
      "AssertionError: \n",
      "Arrays are not almost equal to 3 decimals\n",
      " ACTUAL: 6.2\n",
      " DESIRED: 6.314\n",
      "\n",
      "----------------------------------------------------------------------\n",
      "Ran 3 tests in 2.661s\n",
      "\n",
      "FAILED (failures=3)\n"
     ]
    },
    {
     "data": {
      "text/plain": [
       "<unittest.main.TestProgram at 0x18fd03af6a0>"
      ]
     },
     "execution_count": 9,
     "metadata": {},
     "output_type": "execute_result"
    }
   ],
   "source": [
    "## DO NOT MODIFY THIS CODE.  This code will ensure that your submission\n",
    "## will work proberly with the autograder\n",
    "\n",
    "import unittest\n",
    "\n",
    "class TestDieNNotebook(unittest.TestCase):\n",
    "    def test_case_1(self):\n",
    "        agent = MDPAgent()\n",
    "        np.testing.assert_almost_equal(\n",
    "            agent.solve(is_bad_side=[1, 1, 1, 0, 0, 0]),\n",
    "            2.583,\n",
    "            decimal=3\n",
    "        )\n",
    "        \n",
    "    def test_case_2(self):\n",
    "        agent = MDPAgent()\n",
    "        np.testing.assert_almost_equal(\n",
    "            agent.solve(\n",
    "                is_bad_side=[1, 1, 1, 1, 0, 0, 0, 0, 1, 0, 1, 0, 1, 1, 0, 1, 0, 0, 0, 1, 0]\n",
    "            ),\n",
    "            7.379,\n",
    "            decimal=3\n",
    "        )\n",
    "        \n",
    "    def test_case_3(self):\n",
    "        agent = MDPAgent()\n",
    "\n",
    "        np.testing.assert_almost_equal(\n",
    "            agent.solve(\n",
    "                is_bad_side=[1, 1, 1, 1, 1, 1, 0, 1, 0, 1, 1, 0, 1, 0, 1, 0, 0, 1, 0, 0, 1, 0]\n",
    "            ),\n",
    "            6.314,\n",
    "            decimal=3\n",
    "        )\n",
    "\n",
    "unittest.main(argv=[''], verbosity=2, exit=False)"
   ]
  },
  {
   "cell_type": "code",
   "execution_count": null,
   "metadata": {},
   "outputs": [],
   "source": []
  }
 ],
 "metadata": {
  "kernelspec": {
   "display_name": "Python 3",
   "language": "python",
   "name": "python3"
  },
  "language_info": {
   "codemirror_mode": {
    "name": "ipython",
    "version": 3
   },
   "file_extension": ".py",
   "mimetype": "text/x-python",
   "name": "python",
   "nbconvert_exporter": "python",
   "pygments_lexer": "ipython3",
   "version": "3.8.5"
  },
  "pycharm": {
   "stem_cell": {
    "cell_type": "raw",
    "metadata": {
     "collapsed": false
    },
    "source": []
   }
  }
 },
 "nbformat": 4,
 "nbformat_minor": 4
}
